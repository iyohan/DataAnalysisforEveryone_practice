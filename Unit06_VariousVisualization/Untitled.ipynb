{
 "cells": [
  {
   "cell_type": "markdown",
   "metadata": {},
   "source": [
    "# 히스토그램"
   ]
  },
  {
   "cell_type": "code",
   "execution_count": 3,
   "metadata": {},
   "outputs": [
    {
     "data": {
      "image/png": "[encoded data removed]",
      "text/plain": [
       "<Figure size 432x288 with 1 Axes>"
      ]
     },
     "metadata": {
      "needs_background": "light"
     },
     "output_type": "display_data"
    }
   ],
   "source": [
    "import matplotlib.pyplot as plt\n",
    "plt.hist([1, 1, 2, 3, 4, 5, 6, 6, 7, 8, 10])\n",
    "plt.show()"
   ]
  },
  {
   "cell_type": "code",
   "execution_count": 12,
   "metadata": {},
   "outputs": [
    {
     "name": "stdout",
     "output_type": "stream",
     "text": [
      "[6, 5, 4, 5, 3]\n"
     ]
    },
    {
     "data": {
      "image/png": "[encoded data removed]",
      "text/plain": [
       "<Figure size 432x288 with 1 Axes>"
      ]
     },
     "metadata": {
      "needs_background": "light"
     },
     "output_type": "display_data"
    }
   ],
   "source": [
    "import random\n",
    "dice = []\n",
    "for i in range(5) :\n",
    "    dice.append(random.randint(1, 6))\n",
    "print(dice)\n",
    "plt.hist(dice, bins = 6)  #bins는 가로축의 구간 개수를 설정\n",
    "plt.show()"
   ]
  },
  {
   "cell_type": "code",
   "execution_count": 13,
   "metadata": {},
   "outputs": [
    {
     "name": "stdout",
     "output_type": "stream",
     "text": [
      "[5, 2, 5, 4, 4, 2, 6, 1, 1, 4, 3, 6, 1, 5, 5, 1, 2, 5, 3, 1, 4, 2, 1, 4, 6, 3, 4, 3, 5, 6, 3, 1, 1, 5, 3, 2, 2, 6, 1, 4, 6, 5, 2, 1, 5, 4, 5, 5, 5, 6, 4, 3, 3, 1, 3, 6, 3, 2, 4, 5, 1, 4, 1, 4, 3, 3, 1, 5, 6, 2, 3, 5, 6, 2, 1, 2, 1, 5, 3, 6, 2, 5, 4, 4, 2, 3, 5, 5, 6, 4, 2, 4, 4, 1, 4, 4, 2, 1, 2, 2]\n"
     ]
    },
    {
     "data": {
      "image/png": "[encoded data removed]",
      "text/plain": [
       "<Figure size 432x288 with 1 Axes>"
      ]
     },
     "metadata": {
      "needs_background": "light"
     },
     "output_type": "display_data"
    }
   ],
   "source": [
    "import random\n",
    "dice = []\n",
    "for i in range(100) :\n",
    "    dice.append(random.randint(1, 6))\n",
    "print(dice)\n",
    "plt.hist(dice, bins = 6)  #bins는 가로축의 구간 개수를 설정\n",
    "plt.show()"
   ]
  }
 ],
 "metadata": {
  "kernelspec": {
   "display_name": "Python 3",
   "language": "python",
   "name": "python3"
  },
  "language_info": {
   "codemirror_mode": {
    "name": "ipython",
    "version": 3
   },
   "file_extension": ".py",
   "mimetype": "text/x-python",
   "name": "python",
   "nbconvert_exporter": "python",
   "pygments_lexer": "ipython3",
   "version": "3.7.3"
  }
 },
 "nbformat": 4,
 "nbformat_minor": 2
}
